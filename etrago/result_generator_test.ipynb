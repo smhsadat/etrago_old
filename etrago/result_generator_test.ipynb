{
 "cells": [
  {
   "cell_type": "code",
   "execution_count": null,
   "metadata": {},
   "outputs": [],
   "source": [
    "import etrago\n"
   ]
  },
  {
   "cell_type": "code",
   "execution_count": null,
   "metadata": {},
   "outputs": [],
   "source": [
    "\n",
    "n = etrago.Etrago(\n",
    "    csv_folder_name =\"D:\\eTraGo\\etrago_old\\etrago\\Result_V0_8760\",\n",
    "    json_path = \"D:\\eTraGo\\etrago_old\\etrago\\Result_V0_8760\\args.json\"\n",
    ")   "
   ]
  },
  {
   "cell_type": "code",
   "execution_count": null,
   "metadata": {},
   "outputs": [],
   "source": [
    "# n.network.links.to_csv('links.csv', index=False)"
   ]
  },
  {
   "cell_type": "code",
   "execution_count": 33,
   "metadata": {},
   "outputs": [
    {
     "data": {
      "text/plain": [
       "Series([], Name: p_nom_opt, dtype: float64)"
      ]
     },
     "execution_count": 33,
     "metadata": {},
     "output_type": "execute_result"
    }
   ],
   "source": [
    "n.network.links[n.network.links.carrier=='power_to_O2'].p_nom_opt\n",
    "# n.network.links[n.network.links.carrier=='power_to_O2'].p_nom\n",
    "# n.network.links_t.p0['index number'].max()\n",
    "# n.network.links_t.p0['index number'].min()"
   ]
  },
  {
   "cell_type": "code",
   "execution_count": 31,
   "metadata": {},
   "outputs": [
    {
     "ename": "SyntaxError",
     "evalue": "invalid syntax (3588899106.py, line 1)",
     "output_type": "error",
     "traceback": [
      "\u001b[1;36m  Cell \u001b[1;32mIn[31], line 1\u001b[1;36m\u001b[0m\n\u001b[1;33m    n.network.links_t[]\u001b[0m\n\u001b[1;37m                      ^\u001b[0m\n\u001b[1;31mSyntaxError\u001b[0m\u001b[1;31m:\u001b[0m invalid syntax\n"
     ]
    }
   ],
   "source": [
    "\n",
    "n.network.links_t"
   ]
  },
  {
   "cell_type": "code",
   "execution_count": 18,
   "metadata": {},
   "outputs": [
    {
     "data": {
      "text/plain": [
       "Link\n",
       "5        11.233259\n",
       "6         0.999331\n",
       "7         1.999988\n",
       "8       161.098210\n",
       "14        0.005120\n",
       "           ...    \n",
       "3944      0.005801\n",
       "3951      0.999987\n",
       "3952      9.999982\n",
       "3953      0.006182\n",
       "3954    237.960094\n",
       "Name: p_nom_opt, Length: 233, dtype: float64"
      ]
     },
     "execution_count": 18,
     "metadata": {},
     "output_type": "execute_result"
    }
   ],
   "source": [
    "n.network.links[n.network.links.carrier =='power_to_H2'].p_nom_opt\n"
   ]
  },
  {
   "cell_type": "code",
   "execution_count": null,
   "metadata": {},
   "outputs": [],
   "source": [
    "n.network.links_t"
   ]
  },
  {
   "cell_type": "code",
   "execution_count": null,
   "metadata": {},
   "outputs": [],
   "source": [
    "n.plot_carrier(carrier_links=[\"power_to_H2\"])\n",
    "# n.plot_clusters()\n",
    "# n.plot_flexibility_usage(flexibility='dsm'/'BEV charger'/heat/battery/h2_store)\n",
    "# n.plot_gas_generation() #this generate a liner graph to show production for specific period by GW\n",
    "# n.plot_gas_summary()\n",
    "# n.plot_grid(line_colors= 'expansion_abs/line_loading'/expansion_rel/v_nom)\n",
    "# n.plot_h2_generation()\n",
    "# n.plot_h2_summary()results300hours/\n",
    "# n.plot_heat_loads()\n",
    "# n.plot_heat_summary()\n",
    "# n.plot_flexibility_usage()\n",
    "# b.plot_gas_summary(t_resolution='300H', stacked=False, save_path=False )"
   ]
  },
  {
   "cell_type": "code",
   "execution_count": null,
   "metadata": {},
   "outputs": [],
   "source": [
    "# #below command lines are to find/work with time series data\n",
    "# n.network.generators_t\n",
    "# n.network.loads_t.p\n",
    "# n.loads_t.p\n",
    "# n.network.loads_t.p.iloc[1]\n",
    "# n.network.loads_t.p.iloc[1]\n",
    "# n.network.loads_t.p.iloc[:1]\n",
    "# n.network.loads_t.p.iloc[:1].plot()\n",
    "# n.network.loads_t.p.iloc[:1].T.plot()\n",
    "# # compere the new version of plots with dev branch"
   ]
  },
  {
   "cell_type": "code",
   "execution_count": 36,
   "metadata": {},
   "outputs": [
    {
     "name": "stdout",
     "output_type": "stream",
     "text": [
      "{}\n"
     ]
    }
   ],
   "source": [
    "n.network.carriers_t "
   ]
  },
  {
   "cell_type": "code",
   "execution_count": null,
   "metadata": {},
   "outputs": [],
   "source": [
    "# n.plot_carrier()\n",
    "# n.plot_carrier(carrier_links='power_to_Hydrogen', carrier_buses='AC')\n",
    "\n",
    "# n.plot_clusters(carrier = 'O2',save_path=\"D:\\plot.png\")\n",
    "\n",
    "# n.plot_flexibility_usage(flexibility=, agg=\"5h\", snapshots=[], buses=[], pre_path=None, apply_on=\"grid_model\")\n",
    "# n.plot_flexibility_usage(flexibility='heat',save_path=\"D:\\flexibility_usage_heat_w.png\")\n",
    "# flexibility='dsm'/'BEV charger'/battery/heat/h2_store)\n",
    "\n",
    "# n.plot_gas_generation() #this generate a liner graph to show production for specific period by GW\n",
    "\n",
    "# n.plot_gas_summary()\n",
    "# n.plot_grid(line_colors= 'expansion_abs/line_loading'/expansion_rel/v_nom)\n",
    "# n.plot_h2_generation()\n",
    "# n.plot_h2_summary()results300hours/\n",
    "# n.plot_heat_loads()\n",
    "# n.plot_heat_summary()\n",
    "# b.plot_gas_summary(t_resolution='300H', stacked=False, save_path=False )\n",
    "\n",
    "# ssh key public and private and having ip address of the server \n",
    "\n",
    "# n.network.lopf(pyomo=True, solver_name=\"gurobi\", extra_functionality=add_wwtp_constraints)\n",
    "# n.network.model.power_constraint_power_ratio0 #line 3123 in constraints\n",
    "\n",
    "\n",
    "# n.plot_h2_generation()\n",
    "\n",
    "\n",
    "\n"
   ]
  }
 ],
 "metadata": {
  "kernelspec": {
   "display_name": "etrago",
   "language": "python",
   "name": "python3"
  },
  "language_info": {
   "codemirror_mode": {
    "name": "ipython",
    "version": 3
   },
   "file_extension": ".py",
   "mimetype": "text/x-python",
   "name": "python",
   "nbconvert_exporter": "python",
   "pygments_lexer": "ipython3",
   "version": "3.11.8"
  }
 },
 "nbformat": 4,
 "nbformat_minor": 2
}
