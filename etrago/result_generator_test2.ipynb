{
 "cells": [
  {
   "cell_type": "code",
   "execution_count": 1,
   "metadata": {},
   "outputs": [
    {
     "name": "stderr",
     "output_type": "stream",
     "text": [
      "c:\\Users\\Sayed Mohammad\\.conda\\envs\\etrago\\Lib\\site-packages\\paramiko\\transport.py:219: CryptographyDeprecationWarning: Blowfish has been deprecated and will be removed in a future release\n",
      "  \"class\": algorithms.Blowfish,\n",
      "C:\\Users\\Sayed Mohammad\\AppData\\Roaming\\Python\\Python311\\site-packages\\pyproj\\crs\\crs.py:141: FutureWarning:\n",
      "\n",
      "'+init=<authority>:<code>' syntax is deprecated. '<authority>:<code>' is the preferred initialization method. When making the change, be mindful of axis order changes: https://pyproj4.github.io/pyproj/stable/gotchas.html#axis-order-changes-in-proj-6\n",
      "\n",
      "C:\\Users\\Sayed Mohammad\\AppData\\Roaming\\Python\\Python311\\site-packages\\pyproj\\crs\\crs.py:141: FutureWarning:\n",
      "\n",
      "'+init=<authority>:<code>' syntax is deprecated. '<authority>:<code>' is the preferred initialization method. When making the change, be mindful of axis order changes: https://pyproj4.github.io/pyproj/stable/gotchas.html#axis-order-changes-in-proj-6\n",
      "\n",
      "C:\\Users\\Sayed Mohammad\\AppData\\Roaming\\Python\\Python311\\site-packages\\pyproj\\crs\\crs.py:141: FutureWarning:\n",
      "\n",
      "'+init=<authority>:<code>' syntax is deprecated. '<authority>:<code>' is the preferred initialization method. When making the change, be mindful of axis order changes: https://pyproj4.github.io/pyproj/stable/gotchas.html#axis-order-changes-in-proj-6\n",
      "\n",
      "C:\\Users\\Sayed Mohammad\\AppData\\Roaming\\Python\\Python311\\site-packages\\pyproj\\crs\\crs.py:141: FutureWarning:\n",
      "\n",
      "'+init=<authority>:<code>' syntax is deprecated. '<authority>:<code>' is the preferred initialization method. When making the change, be mindful of axis order changes: https://pyproj4.github.io/pyproj/stable/gotchas.html#axis-order-changes-in-proj-6\n",
      "\n",
      "INFO:pypsa.io:Imported network Result-V00 500h-100C has buses, carriers, generators, lines, links, loads, storage_units, stores\n",
      "c:\\Users\\Sayed Mohammad\\.conda\\envs\\etrago\\Lib\\site-packages\\pypsa\\io.py:123: FutureWarning:\n",
      "\n",
      "The parsing of 'now' in pd.to_datetime without `utc=True` is deprecated. In a future version, this will match Timestamp('now') and Timestamp.now()\n",
      "\n",
      "c:\\Users\\Sayed Mohammad\\.conda\\envs\\etrago\\Lib\\site-packages\\pypsa\\io.py:137: DtypeWarning:\n",
      "\n",
      "Columns (15) have mixed types. Specify dtype option on import or set low_memory=False.\n",
      "\n",
      "INFO:pypsa.io:Imported network clustering has buses, lines, links\n",
      "INFO:pypsa.io:Imported network Result-V06 500h-100C has buses, carriers, generators, lines, links, loads, storage_units, stores\n",
      "c:\\Users\\Sayed Mohammad\\.conda\\envs\\etrago\\Lib\\site-packages\\pypsa\\io.py:123: FutureWarning:\n",
      "\n",
      "The parsing of 'now' in pd.to_datetime without `utc=True` is deprecated. In a future version, this will match Timestamp('now') and Timestamp.now()\n",
      "\n",
      "INFO:pypsa.io:Imported network clustering has buses, lines, links\n"
     ]
    }
   ],
   "source": [
    "# Connection to the the sources of results\n",
    "import etrago\n",
    "n = etrago.Etrago(\n",
    "    csv_folder_name = \"D:\\eTraGo\\etrago\\Result-V00 500h-100C\",\n",
    "    json_path = \"D:\\eTraGo\\etrago\\Result-V00 500h-100C.json\")\n",
    "w = etrago.Etrago(\n",
    "    csv_folder_name = \"D:\\eTraGo\\etrago\\Result-V06 500h-100C\",\n",
    "    json_path = \"D:\\eTraGo\\etrago\\Result-V06 500h-100C.json\")"
   ]
  },
  {
   "cell_type": "code",
   "execution_count": null,
   "metadata": {},
   "outputs": [],
   "source": [
    "# Print total output of links (Based and New)\n",
    "def print_link_outputs(data_dict, carriers):\n",
    "    def get_stats(data, carrier):\n",
    "        filtered_data = data.network.links[data.network.links.carrier == carrier].p_nom_opt\n",
    "        return round(filtered_data.sum(), 2), round(filtered_data.max(), 2), filtered_data.count()\n",
    "\n",
    "    for carrier in carriers:\n",
    "        for name, data in data_dict.items():\n",
    "            sum_p_nom_opt, max_p_nom_opt, count_p_nom_opt = get_stats(data, carrier)\n",
    "            print(f'{name} {carrier.replace(\"_\", \" \").capitalize()}: '\n",
    "                  f'Sum: {sum_p_nom_opt}   Max: {max_p_nom_opt}   Count: {count_p_nom_opt}')\n",
    "        print('')  # Print a blank line for separation\n",
    "\n",
    "# Define your data dictionaries and carrier lists\n",
    "data_dict = {'Base': n, 'WWTP': w}\n",
    "carriers = ['power_to_H2', 'H2_to_power', 'power_to_O2', 'power_to_Heat']\n",
    "\n",
    "# Call the function\n",
    "print_link_outputs(data_dict, carriers)"
   ]
  },
  {
   "cell_type": "code",
   "execution_count": null,
   "metadata": {},
   "outputs": [],
   "source": [
    "# O2 power hourly production and consumption per link\n",
    "# w.network.links[w.network.links.carrier=='power_to_O2'][w.network.links.bus1=='77600']\n",
    "print('Link: ', w.network.links_t.p0['721'].sum())\n",
    "print('Load: ', w.network.loads_t.p['77600 O2'].sum())\n",
    "print('Generator: ', w.network.generators_t.p['77600 O2'].sum())"
   ]
  },
  {
   "cell_type": "code",
   "execution_count": 4,
   "metadata": {},
   "outputs": [],
   "source": [
    "import pandas as pd"
   ]
  },
  {
   "cell_type": "code",
   "execution_count": 8,
   "metadata": {},
   "outputs": [
    {
     "name": "stdout",
     "output_type": "stream",
     "text": [
      "snapshot\n",
      "2011-01-01 00:00:00    0.036896\n",
      "2011-01-01 10:00:00    0.015392\n",
      "2011-01-01 20:00:00    0.012001\n",
      "2011-01-02 06:00:00    0.009889\n",
      "2011-01-02 16:00:00    0.008672\n",
      "2011-01-03 02:00:00    0.008178\n",
      "2011-01-03 12:00:00    0.006956\n",
      "2011-01-03 22:00:00    0.006714\n",
      "2011-01-04 08:00:00    0.006012\n",
      "2011-01-04 18:00:00    0.005685\n",
      "2011-01-05 04:00:00    0.005412\n",
      "2011-01-05 14:00:00    0.004945\n",
      "2011-01-06 00:00:00    0.004821\n",
      "2011-01-06 10:00:00    0.004399\n",
      "2011-01-06 20:00:00    0.004219\n",
      "2011-01-07 06:00:00    0.003988\n",
      "2011-01-07 16:00:00    0.003762\n",
      "2011-01-08 02:00:00    0.420529\n",
      "2011-01-08 12:00:00    0.003510\n",
      "2011-01-08 22:00:00    0.003527\n",
      "2011-01-09 08:00:00    0.003492\n",
      "2011-01-09 18:00:00    0.003535\n",
      "2011-01-10 04:00:00    0.003529\n",
      "2011-01-10 14:00:00    0.003404\n",
      "2011-01-11 00:00:00    0.003517\n",
      "2011-01-11 10:00:00    0.003358\n",
      "2011-01-11 20:00:00    0.003431\n",
      "2011-01-12 06:00:00    0.003363\n",
      "2011-01-12 16:00:00    0.003344\n",
      "2011-01-13 02:00:00    2.192755\n",
      "2011-01-13 12:00:00    0.003344\n",
      "2011-01-13 22:00:00    0.003368\n",
      "2011-01-14 08:00:00    0.003346\n",
      "2011-01-14 18:00:00    0.003397\n",
      "2011-01-15 04:00:00    1.616972\n",
      "2011-01-15 14:00:00    0.003468\n",
      "2011-01-16 00:00:00    0.004042\n",
      "2011-01-16 10:00:00    0.003456\n",
      "2011-01-16 20:00:00    0.003598\n",
      "2011-01-17 06:00:00    0.003469\n",
      "2011-01-17 16:00:00    0.003577\n",
      "2011-01-18 02:00:00    0.003586\n",
      "2011-01-18 12:00:00    0.003660\n",
      "2011-01-18 22:00:00    0.003763\n",
      "2011-01-19 08:00:00    0.003737\n",
      "2011-01-19 18:00:00    0.003923\n",
      "2011-01-20 04:00:00    0.003862\n",
      "2011-01-20 14:00:00    0.004158\n",
      "2011-01-21 00:00:00    0.004060\n",
      "2011-01-21 10:00:00    0.004822\n",
      "Name: 721, dtype: float64\n"
     ]
    }
   ],
   "source": [
    "# hourly output comparison of O2 and Heat\n",
    "pd.set_option('display.max_rows', None)\n",
    "print(n.network.links_t.p0['721'])\n"
   ]
  },
  {
   "cell_type": "code",
   "execution_count": null,
   "metadata": {},
   "outputs": [],
   "source": [
    "# Comparison of Hydrogen store within based and new model\n",
    "n.plot_flexibility_usage(flexibility='h2_store', agg=\"1h\", pre_path=\"FLX \")\n",
    "w.plot_flexibility_usage(flexibility='h2_store', agg=\"1h\", pre_path=\"FLX-W \")\n",
    "\n",
    "# n.plot_flexibility_usage(flexibility=, agg=\"5h\", snapshots=[], buses=[], pre_path=None, apply_on=\"grid_model\")\n",
    "# n.plot_flexibility_usage(flexibility='heat',save_path=\"D:\\flexibility_usage_heat_w.png\")\n",
    "# flexibility='dsm'/'BEV charger'/battery/heat/h2_store)"
   ]
  },
  {
   "cell_type": "code",
   "execution_count": null,
   "metadata": {},
   "outputs": [],
   "source": [
    "# Comparison of Heat power within based inputs and new inputs\n",
    "n.plot_flexibility_usage(flexibility='heat', agg=\"1h\", pre_path=\"FLX \")\n",
    "w.plot_flexibility_usage(flexibility='heat', agg=\"1h\", pre_path=\"FLX-W \")"
   ]
  },
  {
   "cell_type": "code",
   "execution_count": null,
   "metadata": {},
   "outputs": [],
   "source": [
    "# this comment doesn't work for new data (w)\n",
    "n.plot_carrier(carrier_links=['power_to_H2'])"
   ]
  },
  {
   "cell_type": "code",
   "execution_count": null,
   "metadata": {},
   "outputs": [],
   "source": [
    "n.plot_clusters(carrier='AC')"
   ]
  },
  {
   "cell_type": "code",
   "execution_count": null,
   "metadata": {},
   "outputs": [],
   "source": [
    "w.plot_h2_generation() #t_resolution=\"20H\", save_path=False\n",
    "n.plot_h2_generation()"
   ]
  },
  {
   "cell_type": "code",
   "execution_count": null,
   "metadata": {},
   "outputs": [],
   "source": [
    "n.plot_h2_summary()\t#  t_resolution=\"20H\", stacked=True, save_path=False\n",
    "w.plot_h2_summary()"
   ]
  },
  {
   "cell_type": "code",
   "execution_count": null,
   "metadata": {},
   "outputs": [],
   "source": [
    "n.plot_gas_generation() #t_resolution=\"20H\", save_path=False\n",
    "w.plot_gas_generation()"
   ]
  },
  {
   "cell_type": "code",
   "execution_count": null,
   "metadata": {},
   "outputs": [],
   "source": [
    "n.plot_gas_summary() # t_resolution=\"20H\", stacked=True, save_path=False\n",
    "w.plot_gas_summary()"
   ]
  },
  {
   "cell_type": "code",
   "execution_count": null,
   "metadata": {},
   "outputs": [],
   "source": [
    "n.plot_heat_loads() #t_resolution=\"20H\", save_path=False\n",
    "w.plot_heat_loads()"
   ]
  },
  {
   "cell_type": "code",
   "execution_count": null,
   "metadata": {},
   "outputs": [],
   "source": [
    "n.plot_heat_summary() # _resolution=\"20H\", stacked=True, save_path=False\n",
    "w.plot_heat_summary()"
   ]
  },
  {
   "cell_type": "code",
   "execution_count": null,
   "metadata": {},
   "outputs": [],
   "source": [
    "n.plot_grid(line_colors=\"expansion_abs\")\n",
    "w.plot_grid(line_colors=\"expansion_abs\")\n"
   ]
  },
  {
   "cell_type": "code",
   "execution_count": null,
   "metadata": {},
   "outputs": [],
   "source": []
  },
  {
   "cell_type": "code",
   "execution_count": null,
   "metadata": {},
   "outputs": [],
   "source": []
  },
  {
   "cell_type": "code",
   "execution_count": null,
   "metadata": {},
   "outputs": [],
   "source": []
  },
  {
   "cell_type": "code",
   "execution_count": null,
   "metadata": {},
   "outputs": [],
   "source": []
  },
  {
   "cell_type": "code",
   "execution_count": null,
   "metadata": {},
   "outputs": [],
   "source": [
    "print('Base Power-H2',\n",
    "      \t'Sum: ', round(n.network.links[n.network.links.carrier=='power_to_H2'].p_nom_opt.sum(), 2),'   ',\n",
    "      \t'Max: ', round(n.network.links[n.network.links.carrier=='power_to_H2'].p_nom_opt.max(), 2),'   ',\n",
    "      \t'Count: ', n.network.links[n.network.links.carrier=='power_to_H2'].p_nom_opt.count())\n",
    "\n",
    "print('WWTP Power-H2',\n",
    "      \t'Sum: ', round(w.network.links[w.network.links.carrier=='power_to_H2'].p_nom_opt.sum(), 2),'   ',\n",
    "      \t'Max: ', round(w.network.links[w.network.links.carrier=='power_to_H2'].p_nom_opt.max(), 2),'   ',\n",
    "      \t'Count: ', w.network.links[w.network.links.carrier=='power_to_H2'].p_nom_opt.count(),'\\n')\n",
    "\n",
    "print('Base H2-Power',\n",
    "      \t'Sum: ', round(n.network.links[n.network.links.carrier=='H2_to_power'].p_nom_opt.sum(), 2),'   ',\n",
    "      \t'Max: ', round(n.network.links[n.network.links.carrier=='H2_to_power'].p_nom_opt.max(), 2),'   ',\n",
    "      \t'Count: ', n.network.links[n.network.links.carrier=='H2_to_power'].p_nom_opt.count())\n",
    "\n",
    "print('WWTP H2-Power',\n",
    "      \t'Sum: ', round(w.network.links[w.network.links.carrier=='H2_to_power'].p_nom_opt.sum(), 2),'   ',\n",
    "      \t'Max: ', round(w.network.links[w.network.links.carrier=='H2_to_power'].p_nom_opt.max(), 2),'   ',\n",
    "      \t'Count: ', w.network.links[w.network.links.carrier=='H2_to_power'].p_nom_opt.count(),'\\n')\n",
    "\n",
    "print('WWTP Power-O2',\n",
    "      \t'Sum: ', round(w.network.links[w.network.links.carrier=='power_to_O2'].p_nom_opt.sum(), 2),'   ',\n",
    "      \t'Max: ', round(w.network.links[w.network.links.carrier=='power_to_O2'].p_nom_opt.max(), 2),'   ',\n",
    "      \t'Count: ', w.network.links[w.network.links.carrier=='power_to_O2'].p_nom_opt.count())\n",
    "\n",
    "print('WWTP Power-Heat',\n",
    "      \t'Sum: ', round(w.network.links[w.network.links.carrier=='power_to_Heat'].p_nom_opt.sum(), 2),'   ',\n",
    "      \t'Max: ', round(w.network.links[w.network.links.carrier=='power_to_Heat'].p_nom_opt.max(), 2),'   ',\n",
    "      \t'Count: ', w.network.links[w.network.links.carrier=='power_to_Heat'].p_nom_opt.count())"
   ]
  }
 ],
 "metadata": {
  "kernelspec": {
   "display_name": "etrago",
   "language": "python",
   "name": "python3"
  },
  "language_info": {
   "codemirror_mode": {
    "name": "ipython",
    "version": 3
   },
   "file_extension": ".py",
   "mimetype": "text/x-python",
   "name": "python",
   "nbconvert_exporter": "python",
   "pygments_lexer": "ipython3",
   "version": "3.11.8"
  }
 },
 "nbformat": 4,
 "nbformat_minor": 2
}
